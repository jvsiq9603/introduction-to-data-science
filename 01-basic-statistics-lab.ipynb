{
  "cells": [
    {
      "cell_type": "markdown",
      "metadata": {
        "id": "view-in-github",
        "colab_type": "text"
      },
      "source": [
        "<a href=\"https://colab.research.google.com/github/proffranciscofernando/introduction-to-data-science/blob/main/01-basic-statistics-lab.ipynb\" target=\"_parent\"><img src=\"https://colab.research.google.com/assets/colab-badge.svg\" alt=\"Open In Colab\"/></a>"
      ]
    },
    {
      "cell_type": "markdown",
      "id": "01f11313",
      "metadata": {
        "id": "01f11313"
      },
      "source": [
        "# Introduction to Basic Statistical Measures with Pandas\n",
        "This notebook will guide you through some basic statistical measures using the `pandas` library. We will cover:\n",
        "1. Mean\n",
        "2. Median\n",
        "3. Mode\n",
        "4. Standard Deviation\n",
        "5. Variance\n",
        "6. Quartiles and Percentiles"
      ]
    },
    {
      "cell_type": "markdown",
      "source": [
        "## Importing Necessary Libraries\n",
        "First, we will import the necessary libraries."
      ],
      "metadata": {
        "id": "dp-9DQOrMeA-"
      },
      "id": "dp-9DQOrMeA-"
    },
    {
      "cell_type": "code",
      "execution_count": 1,
      "id": "593697cf",
      "metadata": {
        "id": "593697cf"
      },
      "outputs": [],
      "source": [
        "import pandas as pd\n",
        "import matplotlib.pyplot as plt"
      ]
    },
    {
      "cell_type": "markdown",
      "id": "69e9a8af",
      "metadata": {
        "id": "69e9a8af"
      },
      "source": [
        "## Creating the DataFrame\n",
        "Let's create a DataFrame with the data we will use in the examples."
      ]
    },
    {
      "cell_type": "code",
      "execution_count": 2,
      "id": "6ce414f1",
      "metadata": {
        "colab": {
          "base_uri": "https://localhost:8080/"
        },
        "id": "6ce414f1",
        "outputId": "652c86ee-cdc7-453d-e554-baff804b3d6e"
      },
      "outputs": [
        {
          "output_type": "stream",
          "name": "stdout",
          "text": [
            "   values\n",
            "0      10\n",
            "1      20\n",
            "2      30\n",
            "3      40\n",
            "4      50\n"
          ]
        }
      ],
      "source": [
        "# Creating the DataFrame\n",
        "data = pd.DataFrame({'values': [10, 20, 30, 40, 50]})\n",
        "print(data)"
      ]
    },
    {
      "cell_type": "markdown",
      "id": "e3722a78",
      "metadata": {
        "id": "e3722a78"
      },
      "source": [
        "## 1. Mean\n",
        "The mean is the sum of all values divided by the number of values."
      ]
    },
    {
      "cell_type": "code",
      "execution_count": 3,
      "id": "8e617b70",
      "metadata": {
        "colab": {
          "base_uri": "https://localhost:8080/"
        },
        "id": "8e617b70",
        "outputId": "66dfb2d4-d206-4eb9-dc4c-47e20394f3e8"
      },
      "outputs": [
        {
          "output_type": "stream",
          "name": "stdout",
          "text": [
            "Mean: 30.0\n"
          ]
        }
      ],
      "source": [
        "# Example of calculating the mean\n",
        "mean = data['values'].mean()\n",
        "print(\"Mean:\", mean)"
      ]
    },
    {
      "cell_type": "markdown",
      "id": "e15053b1",
      "metadata": {
        "id": "e15053b1"
      },
      "source": [
        "## 2. Median\n",
        "The median is the middle value when the data is ordered."
      ]
    },
    {
      "cell_type": "code",
      "execution_count": 4,
      "id": "6eb4da6b",
      "metadata": {
        "colab": {
          "base_uri": "https://localhost:8080/"
        },
        "id": "6eb4da6b",
        "outputId": "541e8c6d-f63e-4de0-f111-5995ef9c2e30"
      },
      "outputs": [
        {
          "output_type": "stream",
          "name": "stdout",
          "text": [
            "Median: 30.0\n"
          ]
        }
      ],
      "source": [
        "# Example of calculating the median\n",
        "median = data['values'].median()\n",
        "print(\"Median:\", median)"
      ]
    },
    {
      "cell_type": "markdown",
      "id": "7bdbe0ef",
      "metadata": {
        "id": "7bdbe0ef"
      },
      "source": [
        "## 3. Mode\n",
        "The mode is the value that appears most frequently in the data."
      ]
    },
    {
      "cell_type": "code",
      "execution_count": 5,
      "id": "715d64c5",
      "metadata": {
        "colab": {
          "base_uri": "https://localhost:8080/"
        },
        "id": "715d64c5",
        "outputId": "600aedaf-9d00-4b22-f52b-8e0d6610f3e3"
      },
      "outputs": [
        {
          "output_type": "stream",
          "name": "stdout",
          "text": [
            "Mode: 10\n"
          ]
        }
      ],
      "source": [
        "# Example of calculating the mode\n",
        "mode = data['values'].mode()\n",
        "print(\"Mode:\", mode[0])"
      ]
    },
    {
      "cell_type": "markdown",
      "id": "d2a707fd",
      "metadata": {
        "id": "d2a707fd"
      },
      "source": [
        "## 4. Standard Deviation\n",
        "The standard deviation measures the dispersion of the data relative to the mean."
      ]
    },
    {
      "cell_type": "code",
      "execution_count": 6,
      "id": "000bba44",
      "metadata": {
        "colab": {
          "base_uri": "https://localhost:8080/"
        },
        "id": "000bba44",
        "outputId": "f6416121-9b16-4b1f-cceb-802610fc228b"
      },
      "outputs": [
        {
          "output_type": "stream",
          "name": "stdout",
          "text": [
            "Standard Deviation: 15.811388300841896\n"
          ]
        }
      ],
      "source": [
        "# Example of calculating the standard deviation\n",
        "std_dev = data['values'].std()\n",
        "print(\"Standard Deviation:\", std_dev)"
      ]
    },
    {
      "cell_type": "markdown",
      "id": "96415f42",
      "metadata": {
        "id": "96415f42"
      },
      "source": [
        "## 5. Variance\n",
        "The variance is the square of the standard deviation."
      ]
    },
    {
      "cell_type": "code",
      "execution_count": 7,
      "id": "5e88e1cd",
      "metadata": {
        "colab": {
          "base_uri": "https://localhost:8080/"
        },
        "id": "5e88e1cd",
        "outputId": "3a7b6f4e-b3e8-48eb-ec0a-841025ec48c8"
      },
      "outputs": [
        {
          "output_type": "stream",
          "name": "stdout",
          "text": [
            "Variance: 250.0\n"
          ]
        }
      ],
      "source": [
        "# Example of calculating the variance\n",
        "variance = data['values'].var()\n",
        "print(\"Variance:\", variance)"
      ]
    },
    {
      "cell_type": "markdown",
      "id": "a221087d",
      "metadata": {
        "id": "a221087d"
      },
      "source": [
        "## 6. Quartiles and Percentiles\n",
        "Quartiles divide the data into four equal parts. Percentiles are similar but divide the data into 100 equal parts."
      ]
    },
    {
      "cell_type": "code",
      "execution_count": 8,
      "id": "3bc76b5f",
      "metadata": {
        "colab": {
          "base_uri": "https://localhost:8080/"
        },
        "id": "3bc76b5f",
        "outputId": "e19c96b2-eb96-4b0c-fe8c-756f90034130"
      },
      "outputs": [
        {
          "output_type": "stream",
          "name": "stdout",
          "text": [
            "1st Quartile (Q1): 20.0\n",
            "2nd Quartile (Q2): 30.0\n",
            "3rd Quartile (Q3): 40.0\n",
            "90th Percentile: 46.0\n"
          ]
        }
      ],
      "source": [
        "# Example of calculating quartiles\n",
        "Q1 = data['values'].quantile(0.25)\n",
        "Q2 = data['values'].quantile(0.50)\n",
        "Q3 = data['values'].quantile(0.75)\n",
        "print(\"1st Quartile (Q1):\", Q1)\n",
        "print(\"2nd Quartile (Q2):\", Q2)  # This is the same as the median\n",
        "print(\"3rd Quartile (Q3):\", Q3)\n",
        "\n",
        "# Example of calculating percentiles\n",
        "percentile_90 = data['values'].quantile(0.90)\n",
        "print(\"90th Percentile:\", percentile_90)"
      ]
    },
    {
      "cell_type": "markdown",
      "id": "45efab78",
      "metadata": {
        "id": "45efab78"
      },
      "source": [
        "## Data Visualisation\n",
        "Let's use a boxplot to visualise the distribution of the data."
      ]
    },
    {
      "cell_type": "code",
      "execution_count": 9,
      "id": "29165df6",
      "metadata": {
        "colab": {
          "base_uri": "https://localhost:8080/",
          "height": 452
        },
        "id": "29165df6",
        "outputId": "db45be2b-0536-4127-8bbd-cffa4007d5c0"
      },
      "outputs": [
        {
          "output_type": "display_data",
          "data": {
            "text/plain": [
              "<Figure size 640x480 with 1 Axes>"
            ],
            "image/png": "[encoded data removed]"
          },
          "metadata": {}
        }
      ],
      "source": [
        "# Example of visualisation with boxplot\n",
        "plt.boxplot(data['values'])\n",
        "plt.title(\"Boxplot of the Data\")\n",
        "plt.show()"
      ]
    },
    {
      "cell_type": "markdown",
      "id": "e21e8421",
      "metadata": {
        "id": "e21e8421"
      },
      "source": [
        "## Conclusion\n",
        "In this notebook, we covered some basic statistical measures, including mean, median, mode, standard deviation, variance, quartiles, and percentiles. Additionally, we visualised the distribution of the data using a boxplot. We hope this notebook helps you better understand these measures and how to apply them to your data."
      ]
    }
  ],
  "metadata": {
    "colab": {
      "provenance": [],
      "include_colab_link": true
    },
    "language_info": {
      "name": "python"
    },
    "kernelspec": {
      "name": "python3",
      "display_name": "Python 3"
    }
  },
  "nbformat": 4,
  "nbformat_minor": 5
}