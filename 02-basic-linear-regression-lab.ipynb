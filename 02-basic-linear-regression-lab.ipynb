{
  "cells": [
    {
      "cell_type": "markdown",
      "metadata": {
        "id": "view-in-github",
        "colab_type": "text"
      },
      "source": [
        "<a href=\"https://colab.research.google.com/github/proffranciscofernando/introduction-to-data-science/blob/main/02-basic-linear-regression-lab.ipynb\" target=\"_parent\"><img src=\"https://colab.research.google.com/assets/colab-badge.svg\" alt=\"Open In Colab\"/></a>"
      ]
    },
    {
      "cell_type": "markdown",
      "id": "557bb495",
      "metadata": {
        "id": "557bb495"
      },
      "source": [
        "## 1. Introduction\n",
        "This notebook provides an introduction to linear regression. We will create a synthetic dataset, fit a linear regression model, and evaluate its performance."
      ]
    },
    {
      "cell_type": "markdown",
      "source": [
        "## 2. Importing Libraries"
      ],
      "metadata": {
        "id": "sf00cQapSS3_"
      },
      "id": "sf00cQapSS3_"
    },
    {
      "cell_type": "code",
      "execution_count": null,
      "id": "eb58c073",
      "metadata": {
        "id": "eb58c073"
      },
      "outputs": [],
      "source": [
        "import numpy as np\n",
        "import pandas as pd\n",
        "import matplotlib.pyplot as plt\n",
        "from sklearn.linear_model import LinearRegression\n",
        "from sklearn.metrics import mean_squared_error, r2_score"
      ]
    },
    {
      "cell_type": "markdown",
      "id": "2a230dfe",
      "metadata": {
        "id": "2a230dfe"
      },
      "source": [
        "## 3. Creating the Synthetic Dataset\n",
        "Defining the size of the dataset."
      ]
    },
    {
      "cell_type": "code",
      "execution_count": null,
      "id": "c80bf1e9",
      "metadata": {
        "id": "c80bf1e9"
      },
      "outputs": [],
      "source": [
        "# Generating random data\n",
        "n_samples = 100\n",
        "np.random.seed(42)\n",
        "X = 2 * np.random.rand(n_samples, 1)\n",
        "y = 4 + 3 * X + np.random.randn(n_samples, 1)\n",
        "\n",
        "# Creating a DataFrame\n",
        "data = pd.DataFrame(data=np.hstack((X, y)), columns=['Feature', 'Target'])\n",
        "\n",
        "# Displaying the first few rows of the dataset\n",
        "data.head(10)"
      ]
    },
    {
      "cell_type": "markdown",
      "id": "61ebf00a",
      "metadata": {
        "id": "61ebf00a"
      },
      "source": [
        "## 4. Exploratory Data Analysis (EDA)\n",
        "Visualising the relationship between Feature and Target"
      ]
    },
    {
      "cell_type": "code",
      "execution_count": null,
      "id": "9f65c7f2",
      "metadata": {
        "id": "9f65c7f2"
      },
      "outputs": [],
      "source": [
        "plt.scatter(data['Feature'], data['Target'])\n",
        "plt.xlabel('Feature')\n",
        "plt.ylabel('Target')\n",
        "plt.title('Feature vs Target')\n",
        "plt.show()"
      ]
    },
    {
      "cell_type": "markdown",
      "id": "48eda29d",
      "metadata": {
        "id": "48eda29d"
      },
      "source": [
        "## 5. Training the Linear Regression Model"
      ]
    },
    {
      "cell_type": "code",
      "execution_count": null,
      "id": "61bd1491",
      "metadata": {
        "id": "61bd1491"
      },
      "outputs": [],
      "source": [
        "model = LinearRegression()\n",
        "model.fit(data[['Feature']], data['Target'])"
      ]
    },
    {
      "cell_type": "markdown",
      "id": "a8bad09a",
      "metadata": {
        "id": "a8bad09a"
      },
      "source": [
        "## 6. Evaluating the Model"
      ]
    },
    {
      "cell_type": "code",
      "execution_count": null,
      "id": "6cca45ab",
      "metadata": {
        "id": "6cca45ab"
      },
      "outputs": [],
      "source": [
        "y_pred = model.predict(data[['Feature']])\n",
        "mse = mean_squared_error(data['Target'], y_pred)\n",
        "r2 = r2_score(data['Target'], y_pred)\n",
        "print(f'MSE: {mse}')\n",
        "print(f'R²: {r2}')"
      ]
    },
    {
      "cell_type": "markdown",
      "id": "2fea9262",
      "metadata": {
        "id": "2fea9262"
      },
      "source": [
        "## 7. Visualising the Results"
      ]
    },
    {
      "cell_type": "code",
      "execution_count": null,
      "id": "c249d936",
      "metadata": {
        "id": "c249d936"
      },
      "outputs": [],
      "source": [
        "plt.scatter(data['Feature'], data['Target'], color='black', label='Actual Data')\n",
        "plt.plot(data['Feature'], y_pred, color='blue', linewidth=3, label='Predictions')\n",
        "plt.xlabel('Feature')\n",
        "plt.ylabel('Target')\n",
        "plt.title('Linear Regression Model')\n",
        "plt.legend()\n",
        "plt.show()"
      ]
    },
    {
      "cell_type": "markdown",
      "id": "bb5a8748",
      "metadata": {
        "id": "bb5a8748"
      },
      "source": [
        "## 8. Conclusion\n",
        "In this notebook, we created a synthetic dataset and fitted a linear regression model. We evaluated the model's performance using MSE and R², and visualised the results. This is a basic example to demonstrate the fundamentals of linear regression."
      ]
    }
  ],
  "metadata": {
    "colab": {
      "provenance": [],
      "include_colab_link": true
    },
    "language_info": {
      "name": "python"
    },
    "kernelspec": {
      "name": "python3",
      "display_name": "Python 3"
    }
  },
  "nbformat": 4,
  "nbformat_minor": 5
}